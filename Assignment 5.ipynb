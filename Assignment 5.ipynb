{
 "cells": [
  {
   "cell_type": "code",
   "execution_count": 12,
   "id": "71fdde09",
   "metadata": {},
   "outputs": [
    {
     "name": "stdout",
     "output_type": "stream",
     "text": [
      "Sample Input:\n",
      " x:10\n",
      " n:2\n",
      "Sample Output:\n",
      " 100\n"
     ]
    }
   ],
   "source": [
    "# Write a Python class to implement pow(x, n)\n",
    "# Ans\n",
    "class Power:\n",
    "   def pow(self, x, n):\n",
    "        if x==0 or x==1 or n==1:\n",
    "            return x \n",
    "\n",
    "        if x==-1:\n",
    "            if n%2 ==0:\n",
    "                return 1\n",
    "            else:\n",
    "                return -1\n",
    "        if n==0:\n",
    "            return 1\n",
    "        if n<0:\n",
    "            return 1/self.pow(x,-n)\n",
    "        v = self.pow(x,n//2)\n",
    "        if n%2 ==0:\n",
    "            return v*v\n",
    "        return v*v*x\n",
    "print(\"Sample Input:\")\n",
    "x=int(input(\" x:\"))\n",
    "n=int(input(\" n:\"))\n",
    "\n",
    "print(\"Sample Output:\\n\" ,Power().pow(x, n))"
   ]
  },
  {
   "cell_type": "code",
   "execution_count": null,
   "id": "d39216ff",
   "metadata": {},
   "outputs": [
    {
     "name": "stdout",
     "output_type": "stream",
     "text": [
      "Sample Input:\n"
     ]
    }
   ],
   "source": [
    "# Alternate Answer using pow directly\n",
    "class Power:\n",
    "\n",
    "    def v(x,y):\n",
    "\n",
    "        return pow(x,y)\n",
    "\n",
    "print(\"Sample Input:\")\n",
    "x=int(input(\" x:\"))\n",
    "n=int(input(\" n:\"))\n",
    "\n",
    "print(\"Sample Output:\\n\" ,Power.v(x,y))"
   ]
  },
  {
   "cell_type": "code",
   "execution_count": null,
   "id": "cad12c37",
   "metadata": {},
   "outputs": [],
   "source": []
  }
 ],
 "metadata": {
  "kernelspec": {
   "display_name": "Python 3 (ipykernel)",
   "language": "python",
   "name": "python3"
  },
  "language_info": {
   "codemirror_mode": {
    "name": "ipython",
    "version": 3
   },
   "file_extension": ".py",
   "mimetype": "text/x-python",
   "name": "python",
   "nbconvert_exporter": "python",
   "pygments_lexer": "ipython3",
   "version": "3.9.6"
  }
 },
 "nbformat": 4,
 "nbformat_minor": 5
}
